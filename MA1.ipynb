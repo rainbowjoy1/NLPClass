{
 "cells": [
  {
   "cell_type": "markdown",
   "id": "93a91a19",
   "metadata": {},
   "source": [
    "# Question 1"
   ]
  },
  {
   "cell_type": "markdown",
   "id": "739865d9",
   "metadata": {},
   "source": [
    "## Part 1 - Language modelling"
   ]
  },
  {
   "cell_type": "markdown",
   "id": "3bfc5cf8",
   "metadata": {},
   "source": [
    "## Pre-processing"
   ]
  },
  {
   "cell_type": "code",
   "execution_count": 1,
   "id": "bb8d958a",
   "metadata": {},
   "outputs": [
    {
     "data": {
      "text/plain": [
       "['negative_tweets.json', 'positive_tweets.json', 'tweets.20150430-223406.json']"
      ]
     },
     "execution_count": 1,
     "metadata": {},
     "output_type": "execute_result"
    }
   ],
   "source": [
    "import nltk\n",
    "from nltk.corpus import twitter_samples\n",
    "\n",
    "#the corpora is divided into negative tweets, positive tweets and uncategorized tweets\n",
    "twitter_samples.fileids()"
   ]
  },
  {
   "cell_type": "code",
   "execution_count": 2,
   "id": "0cc7765c",
   "metadata": {
    "scrolled": true
   },
   "outputs": [
    {
     "name": "stdout",
     "output_type": "stream",
     "text": [
      "There are 5000 positive tweets and 5000 negative tweets\n",
      "The uncategorized dataset has 20000 tweets\n"
     ]
    }
   ],
   "source": [
    "# divide the set of positive and negative tweets\n",
    "positive_tweets = twitter_samples.strings('positive_tweets.json')\n",
    "negative_tweets = twitter_samples.strings('negative_tweets.json')\n",
    "all_tweets = twitter_samples.strings('tweets.20150430-223406.json')\n",
    "\n",
    "print(\"There are \" + str(len(positive_tweets)) + \" positive tweets and \" + str(len(negative_tweets)) + \" negative tweets\")\n",
    "print(\"The uncategorized dataset has \" + str(len(all_tweets)) + \" tweets\")"
   ]
  },
  {
   "cell_type": "markdown",
   "id": "db136a14",
   "metadata": {},
   "source": [
    "Let us look at a couple of tweets"
   ]
  },
  {
   "cell_type": "code",
   "execution_count": 3,
   "id": "3c4a4dc8",
   "metadata": {},
   "outputs": [
    {
     "name": "stdout",
     "output_type": "stream",
     "text": [
      "skype was fun :-)\n",
      "Check out my bro @13Mesh 2nd blogiversary! Many more awesome reviews to come :D ... http://t.co/a5xIGzTueL\n"
     ]
    }
   ],
   "source": [
    "print(positive_tweets[250])\n",
    "print(positive_tweets[700])"
   ]
  },
  {
   "cell_type": "markdown",
   "id": "eb3cb3c6",
   "metadata": {},
   "source": [
    "Next, we want to concatenate all tweets together."
   ]
  },
  {
   "cell_type": "code",
   "execution_count": 4,
   "id": "8ab24d3f",
   "metadata": {},
   "outputs": [],
   "source": [
    "positive_tweets = (\"\".join(positive_tweets))"
   ]
  },
  {
   "cell_type": "code",
   "execution_count": 5,
   "id": "dacfe49f",
   "metadata": {
    "scrolled": true
   },
   "outputs": [
    {
     "data": {
      "text/plain": [
       "'#FollowFriday @France_Inte @PKuchly57 @Milipol_Paris for being top engaged members in my community this week :)@Lamb2ja Hey James! How odd :/ Please call our Contact Centre on 02392441234 and we will '"
      ]
     },
     "execution_count": 5,
     "metadata": {},
     "output_type": "execute_result"
    }
   ],
   "source": [
    "positive_tweets[0:200]"
   ]
  },
  {
   "cell_type": "markdown",
   "id": "f8de750d",
   "metadata": {},
   "source": [
    "Next we remove some characters."
   ]
  },
  {
   "cell_type": "code",
   "execution_count": 6,
   "id": "a380e6f2",
   "metadata": {},
   "outputs": [
    {
     "name": "stderr",
     "output_type": "stream",
     "text": [
      "[nltk_data] Downloading package stopwords to\n",
      "[nltk_data]     /Users/erikkonstenius/nltk_data...\n",
      "[nltk_data]   Package stopwords is already up-to-date!\n"
     ]
    }
   ],
   "source": [
    "import re\n",
    "nltk.download('stopwords')\n",
    "positive_tweets=re.sub('[^A-Za-z0-9.]+', ' ',positive_tweets)"
   ]
  },
  {
   "cell_type": "code",
   "execution_count": 7,
   "id": "4e871b05",
   "metadata": {},
   "outputs": [
    {
     "data": {
      "text/plain": [
       "' FollowFriday France Inte PKuchly57 Milipol Paris for being top engaged members in my community this week Lamb2ja Hey James How odd Please call our Contact Centre on 02392441234 and we will be able to'"
      ]
     },
     "execution_count": 7,
     "metadata": {},
     "output_type": "execute_result"
    }
   ],
   "source": [
    "positive_tweets[0:200]"
   ]
  },
  {
   "cell_type": "markdown",
   "id": "7805bc73",
   "metadata": {},
   "source": [
    "The text looks considerably better now."
   ]
  },
  {
   "cell_type": "code",
   "execution_count": 139,
   "id": "7a7772ea",
   "metadata": {
    "scrolled": true
   },
   "outputs": [
    {
     "name": "stdout",
     "output_type": "stream",
     "text": [
      "[['FollowFriday', 'France', 'Inte', 'PKuchly57', 'Milipol', 'Paris', 'for', 'being', 'top', 'engaged', 'members', 'in', 'my', 'community', 'this', 'week', 'Lamb2ja', 'Hey', 'James', 'How', 'odd', 'Please', 'call', 'our', 'Contact', 'Centre', 'on', '02392441234', 'and', 'we', 'will', 'be', 'able', 'to', 'assist', 'you', 'Many', 'thanks', 'DespiteOfficial', 'we', 'had', 'a', 'listen', 'last', 'night', 'As', 'You', 'Bleed', 'is', 'an', 'amazing', 'track', '.']]\n"
     ]
    }
   ],
   "source": [
    "from nltk import tokenize\n",
    "from nltk.tokenize import sent_tokenize, word_tokenize\n",
    "\n",
    "# Tokenize words\n",
    "tweet__word_tokenized = word_tokenize(positive_tweets)\n",
    "\n",
    "# Tokenize sentences\n",
    "tweet__sentence_tokenized = tokenize.sent_tokenize(positive_tweets)\n",
    "\n",
    "# Tokenize words and sentences in one list (required format for bigrams and trigrams)\n",
    "tokenized_text = []\n",
    "for sentence in tweet__sentence_tokenized:\n",
    "    tokenized_text.append(nltk.word_tokenize(sentence))\n",
    "    \n",
    "#print(tweet__word_tokenized[0:20])\n",
    "#print(tweet__sentence_tokenized[0:1])\n",
    "print(tokenized_text[0:1])"
   ]
  },
  {
   "cell_type": "markdown",
   "id": "ae640d53",
   "metadata": {},
   "source": [
    "## Creating N-grams"
   ]
  },
  {
   "cell_type": "markdown",
   "id": "52729c11",
   "metadata": {},
   "source": [
    "## 1. Unigrams"
   ]
  },
  {
   "cell_type": "code",
   "execution_count": 66,
   "id": "c1c89f6c",
   "metadata": {},
   "outputs": [],
   "source": [
    "def unigram(input_w1, data = tweet__word_tokenized):\n",
    "    from nltk.tokenize import sent_tokenize, word_tokenize\n",
    "    from collections import defaultdict\n",
    "\n",
    "    tweets_num_uni = defaultdict(lambda: 0)\n",
    "    tweets_prob_uni = defaultdict(lambda: 0)\n",
    "\n",
    "    for word in data:\n",
    "        tweets_num_uni[word] += 1\n",
    "\n",
    "    for word in tweets_num_uni:\n",
    "        tweets_prob_uni[word] = tweets_num_uni[word] / len(tweet__word_tokenized)\n",
    "    \n",
    "    return tweets_prob_uni[input_w1]"
   ]
  },
  {
   "cell_type": "code",
   "execution_count": 67,
   "id": "a6d024ce",
   "metadata": {},
   "outputs": [
    {
     "data": {
      "text/plain": [
       "0.006988701599081485"
      ]
     },
     "execution_count": 67,
     "metadata": {},
     "output_type": "execute_result"
    }
   ],
   "source": [
    "#unigram(\"When\") #0.00014975789140888896\n",
    "#unigram(\"nonexistingword\") # 0 (such a sentence does not exist)\n",
    "unigram(\"is\")"
   ]
  },
  {
   "cell_type": "markdown",
   "id": "11962797",
   "metadata": {},
   "source": [
    "## 2. Bigrams"
   ]
  },
  {
   "cell_type": "code",
   "execution_count": 68,
   "id": "55a4ce87",
   "metadata": {},
   "outputs": [],
   "source": [
    "def bigram(input_w1, input_w2, data = tokenized_text):\n",
    "    from nltk import bigrams\n",
    "    from collections import defaultdict\n",
    "\n",
    "    tweets_num_bi = defaultdict(lambda: defaultdict(lambda: 0))\n",
    "    tweets_prob_bi = defaultdict(lambda: defaultdict(lambda: 0))\n",
    "\n",
    "    for sentence in data:\n",
    "        for w1, w2 in bigrams(sentence, pad_right=True, pad_left=True):\n",
    "            tweets_num_bi[w1][w2] += 1\n",
    "\n",
    "    for w1 in tweets_num_bi:\n",
    "        total_count = sum(tweets_num_bi[w1].values())\n",
    "        for w2 in tweets_num_bi[w1]:\n",
    "            if total_count == 0:\n",
    "                tweets_prob_bi[w1][w2] = 0\n",
    "            else:\n",
    "                tweets_prob_bi[w1][w2] = tweets_num_bi[w1][w2] / total_count\n",
    "\n",
    "    return tweets_prob_bi[input_w1][input_w2]"
   ]
  },
  {
   "cell_type": "code",
   "execution_count": 138,
   "id": "6e24cf6d",
   "metadata": {},
   "outputs": [
    {
     "data": {
      "text/plain": [
       "0.39473684210526316"
      ]
     },
     "execution_count": 138,
     "metadata": {},
     "output_type": "execute_result"
    }
   ],
   "source": [
    "bigram(\"had\", \"a\") #0.39473684210526316\n",
    "#bigram(\"nonexistingword\", \"had\") # 0 (such a sentence does not exist)\n",
    "#bigram(\"had\", \"nonexistingword\") # 0 (such a sentence does not exist)\n",
    "#bigram(None,\"I\") #0.07632999228989977"
   ]
  },
  {
   "cell_type": "markdown",
   "id": "923197fc",
   "metadata": {},
   "source": [
    "## 3. Trigrams"
   ]
  },
  {
   "cell_type": "code",
   "execution_count": 70,
   "id": "97edd14c",
   "metadata": {},
   "outputs": [],
   "source": [
    "def trigram(input_w1, input_w2, input_w3, data = tokenized_text):\n",
    "\n",
    "    from nltk import trigrams\n",
    "    from collections import defaultdict\n",
    "\n",
    "    tweets_num_tri = defaultdict(lambda: defaultdict(lambda: 0))\n",
    "    tweets_prob_tri = defaultdict(lambda: defaultdict(lambda: 0))\n",
    "\n",
    "    for sentence in data:\n",
    "        for w1, w2, w3 in trigrams(sentence, pad_right=True, pad_left=True):\n",
    "            tweets_num_tri[(w1, w2)][w3] += 1\n",
    "\n",
    "    for w1_w2 in tweets_num_tri:\n",
    "        total_count = float(sum(tweets_num_tri[w1_w2].values()))\n",
    "        for w3 in tweets_num_tri[w1_w2]:\n",
    "            if total_count == 0:\n",
    "                tweets_prob_tri[w1_w2][w3] = 0\n",
    "            else:\n",
    "                tweets_prob_tri[w1_w2][w3] = tweets_num_tri[w1_w2][w3] / total_count\n",
    "\n",
    "    return tweets_prob_tri[input_w1, input_w2][input_w3]"
   ]
  },
  {
   "cell_type": "code",
   "execution_count": 137,
   "id": "e032ca5e",
   "metadata": {},
   "outputs": [
    {
     "data": {
      "text/plain": [
       "1.0"
      ]
     },
     "execution_count": 137,
     "metadata": {},
     "output_type": "execute_result"
    }
   ],
   "source": [
    "trigram(\"we\",\"had\",\"a\") # 1.0 (only word following \"we had\")\n",
    "#trigram(\"nonexistingword\", \"had\", \"a\") # 0 (such a sentence does not exist)\n",
    "#trigram(\"we\", \"had\", \"nonexistingword\") # 0 (such a sentence does not exist)\n",
    "#trigram(None,None,\"I\")"
   ]
  },
  {
   "cell_type": "markdown",
   "id": "4ad3ea71",
   "metadata": {},
   "source": [
    "## Part 2 - Probability based on multiple N-grams"
   ]
  },
  {
   "cell_type": "code",
   "execution_count": 147,
   "id": "bff561e8",
   "metadata": {},
   "outputs": [],
   "source": [
    "def weighted_n_gram(input_w1, input_w2, input_w3, unigram_weight, bigram_weight, trigram_weight, data = tokenized_text):\n",
    "    if unigram_weight + bigram_weight + trigram_weight == 1:\n",
    "        print(trigram(input_w1, input_w2, input_w3))\n",
    "        print(bigram(input_w1,input_w2))\n",
    "        print(unigram(input_w1))\n",
    "        if unigram(input_w1) != 0:\n",
    "            return trigram_weight * trigram(input_w1, input_w2, input_w3) + bigram_weight * bigram(input_w1,input_w2) + unigram_weight * unigram(input_w1)\n",
    "        else:\n",
    "            return 1\n",
    "    else:\n",
    "        print(\"Incompatible weights!\")\n",
    "        "
   ]
  },
  {
   "cell_type": "code",
   "execution_count": 148,
   "id": "ebf752ad",
   "metadata": {},
   "outputs": [
    {
     "name": "stdout",
     "output_type": "stream",
     "text": [
      "0\n",
      "0.06130268199233716\n",
      "0.00434297885085778\n"
     ]
    },
    {
     "data": {
      "text/plain": [
       "0.019259400367872704"
      ]
     },
     "execution_count": 148,
     "metadata": {},
     "output_type": "execute_result"
    }
   ],
   "source": [
    "weighted_n_gram(\"this\",\"is\", \"ahbjasbdhasbhdajh\", 0.2, 0.3, 0.5)\n",
    "# calculations are weird\n",
    "\n",
    "# TODO: \n",
    "# 1. fix missing words\n",
    "# 2. Review part 2\n",
    "# \n",
    "# 4. Clean (not prioritized)\n"
   ]
  },
  {
   "cell_type": "markdown",
   "id": "e7fc9822",
   "metadata": {},
   "source": [
    "## Part 3 - Find weights that maximizes probability"
   ]
  },
  {
   "cell_type": "code",
   "execution_count": 142,
   "id": "83bf429e",
   "metadata": {},
   "outputs": [
    {
     "name": "stdout",
     "output_type": "stream",
     "text": [
      "Incompatible weights!\n",
      "Incompatible weights!\n"
     ]
    },
    {
     "data": {
      "text/html": [
       "<div>\n",
       "<style scoped>\n",
       "    .dataframe tbody tr th:only-of-type {\n",
       "        vertical-align: middle;\n",
       "    }\n",
       "\n",
       "    .dataframe tbody tr th {\n",
       "        vertical-align: top;\n",
       "    }\n",
       "\n",
       "    .dataframe thead th {\n",
       "        text-align: right;\n",
       "    }\n",
       "</style>\n",
       "<table border=\"1\" class=\"dataframe\">\n",
       "  <thead>\n",
       "    <tr style=\"text-align: right;\">\n",
       "      <th></th>\n",
       "      <th>Probability</th>\n",
       "      <th>Unigram Weight</th>\n",
       "      <th>Bigram Weight</th>\n",
       "      <th>Trigram Weight</th>\n",
       "    </tr>\n",
       "  </thead>\n",
       "  <tbody>\n",
       "    <tr>\n",
       "      <th>8</th>\n",
       "      <td>0.750005</td>\n",
       "      <td>0.142857</td>\n",
       "      <td>0.214286</td>\n",
       "      <td>0.642857</td>\n",
       "    </tr>\n",
       "    <tr>\n",
       "      <th>5</th>\n",
       "      <td>0.593762</td>\n",
       "      <td>0.375000</td>\n",
       "      <td>0.062500</td>\n",
       "      <td>0.562500</td>\n",
       "    </tr>\n",
       "    <tr>\n",
       "      <th>0</th>\n",
       "      <td>0.562508</td>\n",
       "      <td>0.250000</td>\n",
       "      <td>0.375000</td>\n",
       "      <td>0.375000</td>\n",
       "    </tr>\n",
       "    <tr>\n",
       "      <th>3</th>\n",
       "      <td>0.531265</td>\n",
       "      <td>0.437500</td>\n",
       "      <td>0.062500</td>\n",
       "      <td>0.500000</td>\n",
       "    </tr>\n",
       "    <tr>\n",
       "      <th>1</th>\n",
       "      <td>0.452392</td>\n",
       "      <td>0.333333</td>\n",
       "      <td>0.428571</td>\n",
       "      <td>0.238095</td>\n",
       "    </tr>\n",
       "    <tr>\n",
       "      <th>9</th>\n",
       "      <td>0.433344</td>\n",
       "      <td>0.333333</td>\n",
       "      <td>0.466667</td>\n",
       "      <td>0.200000</td>\n",
       "    </tr>\n",
       "    <tr>\n",
       "      <th>7</th>\n",
       "      <td>0.384626</td>\n",
       "      <td>0.307692</td>\n",
       "      <td>0.615385</td>\n",
       "      <td>0.076923</td>\n",
       "    </tr>\n",
       "    <tr>\n",
       "      <th>4</th>\n",
       "      <td>0.227294</td>\n",
       "      <td>0.636364</td>\n",
       "      <td>0.272727</td>\n",
       "      <td>0.090909</td>\n",
       "    </tr>\n",
       "    <tr>\n",
       "      <th>2</th>\n",
       "      <td>NaN</td>\n",
       "      <td>0.500000</td>\n",
       "      <td>0.333333</td>\n",
       "      <td>0.166667</td>\n",
       "    </tr>\n",
       "    <tr>\n",
       "      <th>6</th>\n",
       "      <td>NaN</td>\n",
       "      <td>0.285714</td>\n",
       "      <td>0.428571</td>\n",
       "      <td>0.285714</td>\n",
       "    </tr>\n",
       "  </tbody>\n",
       "</table>\n",
       "</div>"
      ],
      "text/plain": [
       "   Probability  Unigram Weight  Bigram Weight  Trigram Weight\n",
       "8     0.750005        0.142857       0.214286        0.642857\n",
       "5     0.593762        0.375000       0.062500        0.562500\n",
       "0     0.562508        0.250000       0.375000        0.375000\n",
       "3     0.531265        0.437500       0.062500        0.500000\n",
       "1     0.452392        0.333333       0.428571        0.238095\n",
       "9     0.433344        0.333333       0.466667        0.200000\n",
       "7     0.384626        0.307692       0.615385        0.076923\n",
       "4     0.227294        0.636364       0.272727        0.090909\n",
       "2          NaN        0.500000       0.333333        0.166667\n",
       "6          NaN        0.285714       0.428571        0.285714"
      ]
     },
     "execution_count": 142,
     "metadata": {},
     "output_type": "execute_result"
    }
   ],
   "source": [
    "# Generate random weights\n",
    "import numpy as np\n",
    "import pandas as pd\n",
    "\n",
    "output_list = []\n",
    "for i in range(10):\n",
    "    generated_numbers = np.random.randint(1, 10, 3)\n",
    "    total = np.sum(generated_numbers)\n",
    "    weights = generated_numbers/total # interpolate weights to a 0 to 1 range.\n",
    "    output = weighted_n_gram('Contact', 'Centre', 'on', weights[0], weights[1], weights[2]), weights[0], weights[1], weights[2]\n",
    "    output_list.append(output)\n",
    "\n",
    "# Convert output to dataframe\n",
    "df = pd.DataFrame(output_list, columns=['Probability', 'Unigram Weight', 'Bigram Weight', \"Trigram Weight\"]).sort_values(by=['Probability'], ascending=False)\n",
    "df"
   ]
  },
  {
   "cell_type": "markdown",
   "id": "906de4e7",
   "metadata": {},
   "source": [
    "The probabilities for this word seem to be maximized when the largest weight is given to the trigram model"
   ]
  },
  {
   "cell_type": "code",
   "execution_count": 101,
   "id": "038c9c13",
   "metadata": {},
   "outputs": [
    {
     "data": {
      "text/plain": [
       "<AxesSubplot:xlabel='Trigram Weight'>"
      ]
     },
     "execution_count": 101,
     "metadata": {},
     "output_type": "execute_result"
    },
    {
     "data": {
      "image/png": "[encoded data removed]",
      "text/plain": [
       "<Figure size 432x288 with 1 Axes>"
      ]
     },
     "metadata": {
      "needs_background": "light"
     },
     "output_type": "display_data"
    }
   ],
   "source": [
    "df.plot(x='Trigram Weight', y='Probability', style='o')"
   ]
  },
  {
   "cell_type": "markdown",
   "id": "a2c774df",
   "metadata": {},
   "source": [
    "## Part 4 - Generate random sentences"
   ]
  },
  {
   "cell_type": "code",
   "execution_count": 104,
   "id": "a8635099",
   "metadata": {},
   "outputs": [
    {
     "name": "stdout",
     "output_type": "stream",
     "text": [
      "['thanks', 'it', 'your', 'because', 'lt', 'phone', 'brasso77', 'follow', 'brighten', 'we']\n"
     ]
    }
   ],
   "source": [
    "import random\n",
    "\n",
    "sentence = random.choices(tweet__word_tokenized, k=10)\n",
    "\n",
    "print(sentence)"
   ]
  },
  {
   "cell_type": "markdown",
   "id": "df0558f5",
   "metadata": {},
   "source": [
    "Only picking unigrams does not produce well phrased sentences"
   ]
  },
  {
   "cell_type": "code",
   "execution_count": 122,
   "id": "c8d180a7",
   "metadata": {},
   "outputs": [
    {
     "name": "stdout",
     "output_type": "stream",
     "text": [
      "FollowFriday\n"
     ]
    }
   ],
   "source": [
    "bigram_list = list(bigrams(tweet__word_tokenized, pad_left=True, pad_right=True))\n",
    "#print(bigram_list)\n",
    "print(bigram_list[1][0])"
   ]
  },
  {
   "cell_type": "code",
   "execution_count": 134,
   "id": "72269d1f",
   "metadata": {},
   "outputs": [
    {
     "name": "stdout",
     "output_type": "stream",
     "text": [
      "[['you'], 'FollowFriday', 'France', ['is'], 'Inte', 'PKuchly57', ['ships'], 'Milipol', 'Paris', ['Hoping'], 'for', 'being', ['one'], 'top', 'engaged']\n"
     ]
    }
   ],
   "source": [
    "sentence = []\n",
    "bigram_list = list(bigrams(tweet__word_tokenized, pad_left=True, pad_right=True))\n",
    "\n",
    "#for sentence in range(10): # 10 sentences\n",
    "for i in range(10): # 10 words in each sentence\n",
    "    if i % 2:\n",
    "        sentence.append(str(bigram_list[i][0]))\n",
    "        sentence.append(str(bigram_list[i][1]))\n",
    "    else:\n",
    "        sentence.append(random.choices(tweet__word_tokenized, k=1))\n",
    "\n",
    "print(sentence)"
   ]
  },
  {
   "cell_type": "code",
   "execution_count": null,
   "id": "f0ac2872",
   "metadata": {},
   "outputs": [],
   "source": []
  }
 ],
 "metadata": {
  "kernelspec": {
   "display_name": "Python 3",
   "language": "python",
   "name": "python3"
  },
  "language_info": {
   "codemirror_mode": {
    "name": "ipython",
    "version": 3
   },
   "file_extension": ".py",
   "mimetype": "text/x-python",
   "name": "python",
   "nbconvert_exporter": "python",
   "pygments_lexer": "ipython3",
   "version": "3.8.8"
  }
 },
 "nbformat": 4,
 "nbformat_minor": 5
}
