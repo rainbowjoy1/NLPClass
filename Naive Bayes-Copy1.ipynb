{
 "cells": [
  {
   "cell_type": "code",
   "execution_count": 1,
   "id": "f90517a2",
   "metadata": {},
   "outputs": [],
   "source": [
    "import nltk\n",
    "import collections\n",
    "from prettytable import PrettyTable\n",
    "import textwrap\n",
    "from textblob.classifiers import NaiveBayesClassifier\n",
    "from prettytable import PrettyTable\n",
    "from nltk.tokenize import word_tokenize\n",
    "\n",
    "from nltk.corpus import stopwords"
   ]
  },
  {
   "cell_type": "code",
   "execution_count": 2,
   "id": "2eee115b",
   "metadata": {
    "scrolled": true
   },
   "outputs": [],
   "source": [
    "film_review = {'review': ['the actor gives a convincing, charismatic performance as the multifaceted',\n",
    "                          'Spielberg gives us a visually spicy and historically accurate real life story',\n",
    "                          'His innovative mind entertains us now and will continue to entertain generations to come',\n",
    "                          'Unfortunately, the film has two major flaws, one in the disastrous ending',\n",
    "                          'If director actually thought this movie was worth anything',\n",
    "                          \"His efforts seem fruitless, creates drama where drama shouldn't be\"],\n",
    "              'label_review': ['entertaining', 'entertaining', 'entertaining', 'boring', 'boring', 'boring'],\n",
    "              'label': ['entertaining', 'boring']}"
   ]
  },
  {
   "cell_type": "code",
   "execution_count": 3,
   "id": "114fae56",
   "metadata": {},
   "outputs": [
    {
     "name": "stdout",
     "output_type": "stream",
     "text": [
      "+----------------------------------------------------+--------------+\n",
      "|                      Document                      |    Label     |\n",
      "+----------------------------------------------------+--------------+\n",
      "|     the - actor - gives - a - convincing - , -     | entertaining |\n",
      "|       charismatic - performance - as - the -       |              |\n",
      "|                    multifaceted                    |              |\n",
      "|                                                    |              |\n",
      "|                                                    |              |\n",
      "|  Spielberg - gives - us - a - visually - spicy -   | entertaining |\n",
      "|   and - historically - accurate - real - life -    |              |\n",
      "|                       story                        |              |\n",
      "|                                                    |              |\n",
      "|                                                    |              |\n",
      "| His - innovative - mind - entertains - us - now -  | entertaining |\n",
      "|      and - will - continue - to - entertain -      |              |\n",
      "|              generations - to - come               |              |\n",
      "|                                                    |              |\n",
      "|                                                    |              |\n",
      "| Unfortunately - , - the - film - has - two - major |    boring    |\n",
      "| - flaws - , - one - in - the - disastrous - ending |              |\n",
      "|                                                    |              |\n",
      "|                                                    |              |\n",
      "| If - director - actually - thought - this - movie  |    boring    |\n",
      "|              - was - worth - anything              |              |\n",
      "|                                                    |              |\n",
      "|                                                    |              |\n",
      "|  His - efforts - seem - fruitless - , - creates -  |    boring    |\n",
      "|     drama - where - drama - should - n't - be      |              |\n",
      "|                                                    |              |\n",
      "|                                                    |              |\n",
      "+----------------------------------------------------+--------------+\n",
      "['His', 'efforts', 'seem', 'fruitless', ',', 'creates', 'drama', 'where', 'drama', 'should', \"n't\", 'be']\n"
     ]
    }
   ],
   "source": [
    "documents_label = list(zip(film_review['review'], film_review['label_review']))\n",
    "\n",
    "tab = PrettyTable(['Document', 'Label'])\n",
    "\n",
    "for (text, label) in documents_label:\n",
    "    documents_word = (word_tokenize(text))\n",
    "    tab.add_row([textwrap.fill(' - '.join(documents_word), width=50), label])\n",
    "    tab.add_row([ '\\n', '\\n'])\n",
    "\n",
    "print(tab)\n",
    "print(documents_word)"
   ]
  },
  {
   "cell_type": "code",
   "execution_count": 4,
   "id": "6385b94c",
   "metadata": {},
   "outputs": [
    {
     "name": "stdout",
     "output_type": "stream",
     "text": [
      "Total Vocabularies (samples) and Words (outcomes): \n",
      "--  <FreqDist with 44 samples and 48 outcomes>\n",
      "Most frequent words: \n",
      "--  [('gives', 2), ('us', 2), ('his', 2), ('drama', 2), ('actor', 1)]\n"
     ]
    }
   ],
   "source": [
    "#creating string from film_review dictionary\n",
    "create_string = ' '.join(film_review['review'])\n",
    "\n",
    "#removing character \",\" from create_string\n",
    "remove_comma = create_string.replace(\",\", '')\n",
    "\n",
    "#tokenize the review as words\n",
    "review_word = word_tokenize(remove_comma)\n",
    "\n",
    "stop_words = set(stopwords.words('english'))\n",
    "filtered_word = []\n",
    "for w in review_word:\n",
    "    if w not in stop_words:\n",
    "        filtered_word.append(w)\n",
    "        \n",
    "        \n",
    "#loading all words into FreqDist\n",
    "all_words = nltk.FreqDist(w.lower() for w in filtered_word)\n",
    "most_freq_words = all_words.most_common()\n",
    "word_features = [word for (word, count) in most_freq_words]\n",
    "\n",
    "\n",
    "print('Total Vocabularies (samples) and Words (outcomes): \\n-- ', all_words)\n",
    "print('Most frequent words: \\n-- ', all_words.most_common(5))"
   ]
  },
  {
   "cell_type": "code",
   "execution_count": null,
   "id": "3e72b0ca",
   "metadata": {},
   "outputs": [],
   "source": []
  },
  {
   "cell_type": "code",
   "execution_count": 9,
   "id": "a42eb601",
   "metadata": {},
   "outputs": [
    {
     "name": "stdout",
     "output_type": "stream",
     "text": [
      "+---------------------------------------------------------------+------------------+\n",
      "|                            Document                           | Label Prediction |\n",
      "+---------------------------------------------------------------+------------------+\n",
      "| film is a innovative drama, entertains, but disastrous ending |      boring      |\n",
      "+---------------------------------------------------------------+------------------+\n"
     ]
    }
   ],
   "source": [
    "train = list(zip(film_review['review'], film_review['label_review']))\n",
    "\n",
    "cls = NaiveBayesClassifier(train)\n",
    "\n",
    "test = (['film is a innovative drama, entertains, but disastrous ending',])\n",
    "\n",
    "pred_label = cls.classify(test)\n",
    "\n",
    "tab = PrettyTable(['Document', 'Label Prediction'])\n",
    "\n",
    "\n",
    "\n",
    "pred_label = collections.defaultdict(set)\n",
    "#actual_labels = collections.defaultdict(set)\n",
    "\n",
    "i = 0\n",
    "for text in test:\n",
    "    predicted = cls.classify(text)\n",
    "    tab.add_row([text, predicted])\n",
    "    #actual_labels[label].add(i)\n",
    "    pred_label[predicted].add(i)\n",
    "    i+=1\n",
    "\n",
    "\n",
    "print(tab)    "
   ]
  }
 ],
 "metadata": {
  "kernelspec": {
   "display_name": "Python 3",
   "language": "python",
   "name": "python3"
  },
  "language_info": {
   "codemirror_mode": {
    "name": "ipython",
    "version": 3
   },
   "file_extension": ".py",
   "mimetype": "text/x-python",
   "name": "python",
   "nbconvert_exporter": "python",
   "pygments_lexer": "ipython3",
   "version": "3.8.8"
  }
 },
 "nbformat": 4,
 "nbformat_minor": 5
}
